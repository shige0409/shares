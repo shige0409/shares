{
 "cells": [
  {
   "cell_type": "code",
   "execution_count": 1,
   "id": "29d674b7",
   "metadata": {},
   "outputs": [],
   "source": [
    "# standard\n",
    "import datetime as dt\n",
    "from dateutil.relativedelta import relativedelta\n",
    "\n",
    "# third-party\n",
    "import numpy as np\n",
    "import pandas as pd\n",
    "pd.set_option(\"max_rows\", 500, \"max_colwidth\", 500, \"max_columns\", 500)\n",
    "pd.options.plotting.backend = \"plotly\"\n",
    "import plotly.express as px"
   ]
  },
  {
   "cell_type": "code",
   "execution_count": 2,
   "id": "1a85d922",
   "metadata": {
    "scrolled": true
   },
   "outputs": [
    {
     "name": "stdout",
     "output_type": "stream",
     "text": [
      "(106313, 4)\n"
     ]
    },
    {
     "data": {
      "text/html": [
       "<div>\n",
       "<style scoped>\n",
       "    .dataframe tbody tr th:only-of-type {\n",
       "        vertical-align: middle;\n",
       "    }\n",
       "\n",
       "    .dataframe tbody tr th {\n",
       "        vertical-align: top;\n",
       "    }\n",
       "\n",
       "    .dataframe thead th {\n",
       "        text-align: right;\n",
       "    }\n",
       "</style>\n",
       "<table border=\"1\" class=\"dataframe\">\n",
       "  <thead>\n",
       "    <tr style=\"text-align: right;\">\n",
       "      <th></th>\n",
       "      <th>log_id</th>\n",
       "      <th>customer_id</th>\n",
       "      <th>use_date</th>\n",
       "      <th>use_month</th>\n",
       "    </tr>\n",
       "  </thead>\n",
       "  <tbody>\n",
       "    <tr>\n",
       "      <th>0</th>\n",
       "      <td>L00000049012332</td>\n",
       "      <td>AS040841</td>\n",
       "      <td>2018-04-01</td>\n",
       "      <td>2018-04-01</td>\n",
       "    </tr>\n",
       "    <tr>\n",
       "      <th>1</th>\n",
       "      <td>L00000049012333</td>\n",
       "      <td>AS046594</td>\n",
       "      <td>2018-04-01</td>\n",
       "      <td>2018-04-01</td>\n",
       "    </tr>\n",
       "    <tr>\n",
       "      <th>2</th>\n",
       "      <td>L00000049012336</td>\n",
       "      <td>AS161071</td>\n",
       "      <td>2018-04-01</td>\n",
       "      <td>2018-04-01</td>\n",
       "    </tr>\n",
       "    <tr>\n",
       "      <th>3</th>\n",
       "      <td>L00000049012337</td>\n",
       "      <td>AS170379</td>\n",
       "      <td>2018-04-01</td>\n",
       "      <td>2018-04-01</td>\n",
       "    </tr>\n",
       "    <tr>\n",
       "      <th>4</th>\n",
       "      <td>L00000049012338</td>\n",
       "      <td>AS186727</td>\n",
       "      <td>2018-04-01</td>\n",
       "      <td>2018-04-01</td>\n",
       "    </tr>\n",
       "  </tbody>\n",
       "</table>\n",
       "</div>"
      ],
      "text/plain": [
       "            log_id customer_id   use_date  use_month\n",
       "0  L00000049012332    AS040841 2018-04-01 2018-04-01\n",
       "1  L00000049012333    AS046594 2018-04-01 2018-04-01\n",
       "2  L00000049012336    AS161071 2018-04-01 2018-04-01\n",
       "3  L00000049012337    AS170379 2018-04-01 2018-04-01\n",
       "4  L00000049012338    AS186727 2018-04-01 2018-04-01"
      ]
     },
     "execution_count": 2,
     "metadata": {},
     "output_type": "execute_result"
    }
   ],
   "source": [
    "logs = pd.read_csv(\"./logs_train.csv\", parse_dates=[\"use_date\", \"use_month\"])\n",
    "print(logs.shape)\n",
    "logs.head()"
   ]
  },
  {
   "cell_type": "code",
   "execution_count": 3,
   "id": "6bcd64b3",
   "metadata": {
    "scrolled": true
   },
   "outputs": [
    {
     "name": "stdout",
     "output_type": "stream",
     "text": [
      "(2780, 8)\n"
     ]
    },
    {
     "data": {
      "text/html": [
       "<div>\n",
       "<style scoped>\n",
       "    .dataframe tbody tr th:only-of-type {\n",
       "        vertical-align: middle;\n",
       "    }\n",
       "\n",
       "    .dataframe tbody tr th {\n",
       "        vertical-align: top;\n",
       "    }\n",
       "\n",
       "    .dataframe thead th {\n",
       "        text-align: right;\n",
       "    }\n",
       "</style>\n",
       "<table border=\"1\" class=\"dataframe\">\n",
       "  <thead>\n",
       "    <tr style=\"text-align: right;\">\n",
       "      <th></th>\n",
       "      <th>customer_id</th>\n",
       "      <th>gender</th>\n",
       "      <th>start_date</th>\n",
       "      <th>end_date</th>\n",
       "      <th>decide_end_date</th>\n",
       "      <th>campaign_name</th>\n",
       "      <th>class_name</th>\n",
       "      <th>price</th>\n",
       "    </tr>\n",
       "  </thead>\n",
       "  <tbody>\n",
       "    <tr>\n",
       "      <th>0</th>\n",
       "      <td>TS975153</td>\n",
       "      <td>F</td>\n",
       "      <td>2017-01-01</td>\n",
       "      <td>NaT</td>\n",
       "      <td>NaT</td>\n",
       "      <td>通常</td>\n",
       "      <td>デイタイム</td>\n",
       "      <td>7500</td>\n",
       "    </tr>\n",
       "    <tr>\n",
       "      <th>1</th>\n",
       "      <td>HI056567</td>\n",
       "      <td>M</td>\n",
       "      <td>2017-01-01</td>\n",
       "      <td>NaT</td>\n",
       "      <td>NaT</td>\n",
       "      <td>通常</td>\n",
       "      <td>ナイト</td>\n",
       "      <td>6000</td>\n",
       "    </tr>\n",
       "    <tr>\n",
       "      <th>2</th>\n",
       "      <td>TS749639</td>\n",
       "      <td>M</td>\n",
       "      <td>2017-01-01</td>\n",
       "      <td>NaT</td>\n",
       "      <td>NaT</td>\n",
       "      <td>通常</td>\n",
       "      <td>オールタイム</td>\n",
       "      <td>10500</td>\n",
       "    </tr>\n",
       "    <tr>\n",
       "      <th>3</th>\n",
       "      <td>PL259109</td>\n",
       "      <td>F</td>\n",
       "      <td>2017-01-01</td>\n",
       "      <td>NaT</td>\n",
       "      <td>NaT</td>\n",
       "      <td>通常</td>\n",
       "      <td>デイタイム</td>\n",
       "      <td>7500</td>\n",
       "    </tr>\n",
       "    <tr>\n",
       "      <th>4</th>\n",
       "      <td>HD165212</td>\n",
       "      <td>M</td>\n",
       "      <td>2017-01-01</td>\n",
       "      <td>NaT</td>\n",
       "      <td>NaT</td>\n",
       "      <td>通常</td>\n",
       "      <td>ナイト</td>\n",
       "      <td>6000</td>\n",
       "    </tr>\n",
       "  </tbody>\n",
       "</table>\n",
       "</div>"
      ],
      "text/plain": [
       "  customer_id gender start_date end_date decide_end_date campaign_name  \\\n",
       "0    TS975153      F 2017-01-01      NaT             NaT            通常   \n",
       "1    HI056567      M 2017-01-01      NaT             NaT            通常   \n",
       "2    TS749639      M 2017-01-01      NaT             NaT            通常   \n",
       "3    PL259109      F 2017-01-01      NaT             NaT            通常   \n",
       "4    HD165212      M 2017-01-01      NaT             NaT            通常   \n",
       "\n",
       "  class_name  price  \n",
       "0      デイタイム   7500  \n",
       "1        ナイト   6000  \n",
       "2     オールタイム  10500  \n",
       "3      デイタイム   7500  \n",
       "4        ナイト   6000  "
      ]
     },
     "execution_count": 3,
     "metadata": {},
     "output_type": "execute_result"
    }
   ],
   "source": [
    "customer = pd.read_csv(\"./customer_train.csv\", parse_dates=[\"start_date\",\"end_date\", \"decide_end_date\"])\n",
    "print(customer.shape)\n",
    "customer.head()"
   ]
  },
  {
   "cell_type": "code",
   "execution_count": 4,
   "id": "4e80ae85",
   "metadata": {
    "scrolled": true
   },
   "outputs": [
    {
     "data": {
      "text/html": [
       "<div>\n",
       "<style scoped>\n",
       "    .dataframe tbody tr th:only-of-type {\n",
       "        vertical-align: middle;\n",
       "    }\n",
       "\n",
       "    .dataframe tbody tr th {\n",
       "        vertical-align: top;\n",
       "    }\n",
       "\n",
       "    .dataframe thead th {\n",
       "        text-align: right;\n",
       "    }\n",
       "</style>\n",
       "<table border=\"1\" class=\"dataframe\">\n",
       "  <thead>\n",
       "    <tr style=\"text-align: right;\">\n",
       "      <th></th>\n",
       "      <th>customer_id</th>\n",
       "      <th>use_month</th>\n",
       "      <th>count</th>\n",
       "      <th>gender</th>\n",
       "      <th>start_date</th>\n",
       "      <th>end_date</th>\n",
       "      <th>decide_end_date</th>\n",
       "      <th>campaign_name</th>\n",
       "      <th>class_name</th>\n",
       "      <th>price</th>\n",
       "      <th>start_month</th>\n",
       "    </tr>\n",
       "  </thead>\n",
       "  <tbody>\n",
       "    <tr>\n",
       "      <th>0</th>\n",
       "      <td>AS008805</td>\n",
       "      <td>2018-06-01</td>\n",
       "      <td>8</td>\n",
       "      <td>M</td>\n",
       "      <td>2018-06-07</td>\n",
       "      <td>NaT</td>\n",
       "      <td>NaT</td>\n",
       "      <td>入会費半額</td>\n",
       "      <td>オールタイム</td>\n",
       "      <td>10500</td>\n",
       "      <td>2018-06-01</td>\n",
       "    </tr>\n",
       "    <tr>\n",
       "      <th>1</th>\n",
       "      <td>AS008805</td>\n",
       "      <td>2018-07-01</td>\n",
       "      <td>7</td>\n",
       "      <td>M</td>\n",
       "      <td>2018-06-07</td>\n",
       "      <td>NaT</td>\n",
       "      <td>NaT</td>\n",
       "      <td>入会費半額</td>\n",
       "      <td>オールタイム</td>\n",
       "      <td>10500</td>\n",
       "      <td>2018-06-01</td>\n",
       "    </tr>\n",
       "    <tr>\n",
       "      <th>2</th>\n",
       "      <td>AS008805</td>\n",
       "      <td>2018-08-01</td>\n",
       "      <td>5</td>\n",
       "      <td>M</td>\n",
       "      <td>2018-06-07</td>\n",
       "      <td>NaT</td>\n",
       "      <td>NaT</td>\n",
       "      <td>入会費半額</td>\n",
       "      <td>オールタイム</td>\n",
       "      <td>10500</td>\n",
       "      <td>2018-06-01</td>\n",
       "    </tr>\n",
       "    <tr>\n",
       "      <th>3</th>\n",
       "      <td>AS008805</td>\n",
       "      <td>2018-09-01</td>\n",
       "      <td>2</td>\n",
       "      <td>M</td>\n",
       "      <td>2018-06-07</td>\n",
       "      <td>NaT</td>\n",
       "      <td>NaT</td>\n",
       "      <td>入会費半額</td>\n",
       "      <td>オールタイム</td>\n",
       "      <td>10500</td>\n",
       "      <td>2018-06-01</td>\n",
       "    </tr>\n",
       "    <tr>\n",
       "      <th>4</th>\n",
       "      <td>AS008805</td>\n",
       "      <td>2018-10-01</td>\n",
       "      <td>2</td>\n",
       "      <td>M</td>\n",
       "      <td>2018-06-07</td>\n",
       "      <td>NaT</td>\n",
       "      <td>NaT</td>\n",
       "      <td>入会費半額</td>\n",
       "      <td>オールタイム</td>\n",
       "      <td>10500</td>\n",
       "      <td>2018-06-01</td>\n",
       "    </tr>\n",
       "  </tbody>\n",
       "</table>\n",
       "</div>"
      ],
      "text/plain": [
       "  customer_id  use_month  count gender start_date end_date decide_end_date  \\\n",
       "0    AS008805 2018-06-01      8      M 2018-06-07      NaT             NaT   \n",
       "1    AS008805 2018-07-01      7      M 2018-06-07      NaT             NaT   \n",
       "2    AS008805 2018-08-01      5      M 2018-06-07      NaT             NaT   \n",
       "3    AS008805 2018-09-01      2      M 2018-06-07      NaT             NaT   \n",
       "4    AS008805 2018-10-01      2      M 2018-06-07      NaT             NaT   \n",
       "\n",
       "  campaign_name class_name  price start_month  \n",
       "0         入会費半額     オールタイム  10500  2018-06-01  \n",
       "1         入会費半額     オールタイム  10500  2018-06-01  \n",
       "2         入会費半額     オールタイム  10500  2018-06-01  \n",
       "3         入会費半額     オールタイム  10500  2018-06-01  \n",
       "4         入会費半額     オールタイム  10500  2018-06-01  "
      ]
     },
     "execution_count": 4,
     "metadata": {},
     "output_type": "execute_result"
    }
   ],
   "source": [
    "# 月毎のログ集計\n",
    "monthly_logs = logs.groupby([\"customer_id\", \"use_month\"]).log_id.count().reset_index()\n",
    "monthly_logs.rename(columns={\"log_id\": \"count\"}, inplace=True)\n",
    "# 顧客情報と結合\n",
    "monthly_logs = monthly_logs.merge(customer, how=\"left\", on=\"customer_id\")\n",
    "monthly_logs[\"start_month\"] = monthly_logs.start_date.apply(lambda d: d.replace(day=1))\n",
    "monthly_logs.head()"
   ]
  },
  {
   "cell_type": "code",
   "execution_count": 16,
   "id": "6f0d37cd",
   "metadata": {},
   "outputs": [],
   "source": [
    "monthly_logs[\"is_last\"] = monthly_logs.apply(lambda s: s.use_month == s.decide_end_date.replace(day=1), axis=1)"
   ]
  },
  {
   "cell_type": "code",
   "execution_count": 17,
   "id": "bea174b6",
   "metadata": {},
   "outputs": [
    {
     "data": {
      "text/plain": [
       "use_month\n",
       "2018-04-01    0.062864\n",
       "2018-05-01    0.058204\n",
       "2018-06-01    0.053706\n",
       "2018-07-01    0.056554\n",
       "2018-08-01    0.050158\n",
       "2018-09-01    0.048000\n",
       "2018-10-01    0.047671\n",
       "2018-11-01    0.060956\n",
       "2018-12-01    0.068254\n",
       "2019-01-01    0.079722\n",
       "Name: is_last, dtype: float64"
      ]
     },
     "execution_count": 17,
     "metadata": {},
     "output_type": "execute_result"
    }
   ],
   "source": [
    "monthly_logs.groupby(\"use_month\").is_last.mean()"
   ]
  },
  {
   "cell_type": "code",
   "execution_count": 21,
   "id": "793ddaef",
   "metadata": {},
   "outputs": [
    {
     "data": {
      "text/plain": [
       "NaT           1591\n",
       "2019-02-28     149\n",
       "2019-01-31     129\n",
       "2018-12-31     111\n",
       "2018-05-31     108\n",
       "2018-04-30     107\n",
       "2018-08-31     107\n",
       "2018-06-30     105\n",
       "2018-07-31     100\n",
       "2018-09-30      95\n",
       "2018-10-31      90\n",
       "2018-11-30      88\n",
       "Name: end_date, dtype: int64"
      ]
     },
     "execution_count": 21,
     "metadata": {},
     "output_type": "execute_result"
    }
   ],
   "source": [
    "customer.end_date.value_counts(dropna=False)"
   ]
  },
  {
   "cell_type": "code",
   "execution_count": null,
   "id": "acec9e50",
   "metadata": {},
   "outputs": [],
   "source": []
  }
 ],
 "metadata": {
  "kernelspec": {
   "display_name": "Python 3",
   "language": "python",
   "name": "python3"
  },
  "language_info": {
   "codemirror_mode": {
    "name": "ipython",
    "version": 3
   },
   "file_extension": ".py",
   "mimetype": "text/x-python",
   "name": "python",
   "nbconvert_exporter": "python",
   "pygments_lexer": "ipython3",
   "version": "3.7.9"
  }
 },
 "nbformat": 4,
 "nbformat_minor": 5
}
